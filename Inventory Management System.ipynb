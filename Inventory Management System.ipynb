{
  "nbformat": 4,
  "nbformat_minor": 0,
  "metadata": {
    "colab": {
      "name": "Inventory Management System.ipynb",
      "provenance": [],
      "collapsed_sections": []
    },
    "kernelspec": {
      "name": "python3",
      "display_name": "Python 3"
    },
    "language_info": {
      "name": "python"
    }
  },
  "cells": [
    {
      "cell_type": "markdown",
      "metadata": {
        "id": "s_1ta_QedgWr"
      },
      "source": [
        "# Inventory Management System Assignment"
      ]
    },
    {
      "cell_type": "code",
      "metadata": {
        "id": "dptVu8O4F055"
      },
      "source": [
        "dic={}\n",
        "\n",
        "dic_customer={}"
      ],
      "execution_count": null,
      "outputs": []
    },
    {
      "cell_type": "code",
      "metadata": {
        "id": "FfDZyOuGGEMB"
      },
      "source": [
        "def get_input(num):\n",
        "    name=input('Enter the name of the product ')\n",
        "    price=input('Enter the price of the product ')\n",
        "    qty=input('Enter the Quantity Of The Product ')\n",
        "    date=input('Enter the Expiry Date ')\n",
        "    maker=input('Enter the Country In Which the Item is made ')\n",
        "    \n",
        "    dic[num]={'name':name,'price':price,'Quantity':qty,'Expiry Date':date,'MADEIN':maker}\n",
        "    \n",
        "    import json\n",
        "    \n",
        "    js=json.dumps(dic)\n",
        "    \n",
        "    return js"
      ],
      "execution_count": null,
      "outputs": []
    },
    {
      "cell_type": "code",
      "metadata": {
        "id": "4oqHDAj7GH2O"
      },
      "source": [
        "def display():\n",
        "    \n",
        "    import json\n",
        "    print('-----------------------------------------------------------------------------------------')\n",
        "    print('PRODUCTID' + '\\t\\t' + 'NAME' + '\\t\\t' + 'PRICE' + '\\t\\t' + 'QUANTITY' + '\\t' + 'EXPIRYDATE' + '\\t\\t\\t' + 'MADEIN')\n",
        "    print('-----------------------------------------------------------------------------------------')\n",
        "    fd=open('Record.json','r')\n",
        "    txt=fd.read();\n",
        "    fd.close()\n",
        "    dic=json.loads(txt)\n",
        "    \n",
        "  \n",
        "    \n",
        "    \n",
        "    lst=dic.keys()\n",
        "\n",
        "    \n",
        "    for i in lst:\n",
        "        print(str(i) + '\\t\\t' + str(dic[i]['name']) + '\\t\\t' + str(dic[i]['price']) + '\\t\\t' + str(dic[i]['Quantity']) + '\\t\\t' + str(dic[i]['Expiry Date']) + '\\t\\t' + str(dic[i]['MADEIN']))"
      ],
      "execution_count": null,
      "outputs": []
    },
    {
      "cell_type": "code",
      "metadata": {
        "id": "2jAwoEOiGb7c"
      },
      "source": [
        "def addcustomer(num_3):\n",
        "    display()\n",
        "    \n",
        "    print('\\n')\n",
        "    print(\"----------------------------------\")\n",
        "    print('Taking Customer Deatails')\n",
        "    print('-----------------------------------\\n')\n",
        "    \n",
        "    #TAKING THE DETAILS FROM THE CUSTOMER\n",
        "    \n",
        "    name=input('Enter the Your Name ')\n",
        "    \n",
        "    product_id=input('Enter the Product Id Of The Product You Want To Purchase From Above Table ')\n",
        "    \n",
        "    qty=input('Enter the Quantity Of The Product You Want To Purchase ')\n",
        "    \n",
        "    temp_id=int(product_id)    \n",
        " \n",
        "    \n",
        "    temp_qty = int(qty)\n",
        "    \n",
        "    act_qty = int(dic[temp_id]['Quantity'])\n",
        "    \n",
        "    \n",
        "    \n",
        "    if(temp_qty > act_qty):\n",
        "        print('------------------------')\n",
        "        print('SORRY WE HAVE ONLY ' + str(act_qty) + ' STOCKS LEFT')\n",
        "        print('------------------------')\n",
        "        \n",
        "    else:\n",
        "        act_qty=act_qty-temp_qty\n",
        "        \n",
        "    dic[temp_id]['Quantity']=str(act_qty)\n",
        "    \n",
        "    dic[temp_id]={'name':dic[temp_id]['name'],'price':dic[temp_id]['price'],'Quantity':dic[temp_id]['Quantity'],'Expiry Date':dic[temp_id]['Expiry Date'],'MADEIN':dic[temp_id]['MADEIN']}\n",
        "\n",
        "     \n",
        "    import json\n",
        "    js=json.dumps(dic)\n",
        "    \n",
        "    fd=open('Record.json','w')\n",
        "    fd.write(js + '\\n')\n",
        "    fd.close()\n",
        "    \n",
        "    \n",
        "    \n",
        "    import datetime\n",
        "    \n",
        "    date=datetime.datetime.now()\n",
        "    \n",
        "    date=str(date)\n",
        "    \n",
        "    \n",
        "    dic_customer[num_3]={'name':name,'Product Id':product_id,'Quantity':qty,'Date':date}\n",
        "    \n",
        "    import json\n",
        "    \n",
        "    js=json.dumps(dic_customer)\n",
        "    \n",
        "    return js"
      ],
      "execution_count": null,
      "outputs": []
    },
    {
      "cell_type": "code",
      "metadata": {
        "id": "b4e9aglIG027"
      },
      "source": [
        "def generatebill():\n",
        "    import json\n",
        "    print('-----------------------------------------------------------------------------------------')\n",
        "    print('CUSTOMERID' + '\\t' + 'NAME' + '\\t' + 'PRODUCTID' + '\\t' + 'QUANTITY' + '\\t' + 'DATE')\n",
        "    print('-----------------------------------------------------------------------------------------')\n",
        "    \n",
        "    fd=open('Sales.json','r')\n",
        "    txt=fd.read()\n",
        "    fd.close()\n",
        "    \n",
        "    fd=open('Record.json','r')\n",
        "    t=fd.read()\n",
        "    fd.close()\n",
        "    \n",
        "    \n",
        "    dic=json.loads(t)\n",
        "    dic_customer=json.loads(txt)\n",
        "    \n",
        "\n",
        "    \n",
        "    lst=dic_customer.keys()\n",
        "    \n",
        "    for i in lst:\n",
        "        print(str(i) + '\\t\\t' + dic_customer[i]['name'] + '\\t' + dic_customer[i]['Product Id'] + '\\t\\t' + dic_customer[i]['Quantity'] + '\\t\\t' + dic_customer[i]['Date'])\n",
        " \n",
        "    print('\\n\\n')\n",
        "    \n",
        "    \n",
        "    cust_id=input('Enter the Customer ID From the Above Table To Generate the Bill For That Customer ')\n",
        "    \n",
        "    p_i=dic_customer[cust_id]['Product Id']\n",
        "    \n",
        "    product=dic[p_i]['name']\n",
        "    \n",
        "    price=dic[p_i]['price']\n",
        "    \n",
        "\n",
        "    fd=open('Bill.json','w')\n",
        "    \n",
        "    fd.write('-----------------BILL-------------------' + '\\n\\n\\n'\n",
        "             \n",
        "             'NAME: ' + '\\t\\t\\t' + dic_customer[cust_id]['name'] + '\\n'\n",
        "             \n",
        "             'PRODUCT NAME: ' + '\\t\\t' +  product + \"\\n\"\n",
        "             \n",
        "             'QUANTITY: ' + '\\t\\t' +  dic_customer[cust_id]['Quantity'] + '\\n'\n",
        "             \n",
        "             'PRICE PER PIECE: ' + '\\t' +  price  + '\\n'\n",
        "             \n",
        "             '----------------------------------------------' + '\\n'\n",
        "             \n",
        "             'TOTAL PRICE ' + '\\t\\t' +  str((int(price)) * (int(dic_customer[cust_id]['Quantity']))) + '\\n'\n",
        "             \n",
        "             '-------------------------------------------------'    \n",
        "            )\n",
        "    fd.close()"
      ],
      "execution_count": null,
      "outputs": []
    },
    {
      "cell_type": "code",
      "metadata": {
        "id": "QX4QCYyAG8zx"
      },
      "source": [
        "num_1=0\n",
        "\n",
        "num_3=100"
      ],
      "execution_count": null,
      "outputs": []
    },
    {
      "cell_type": "code",
      "metadata": {
        "id": "3c1h_o74JThg",
        "colab": {
          "base_uri": "https://localhost:8080/"
        },
        "outputId": "004cfa52-96ef-4f7f-ba13-54798e60a727"
      },
      "source": [
        "op=0;\n",
        "while(op!=5):\n",
        "    print(\"\\nINVENTORY MANAGEMENT\")\n",
        "    print(\"---------------------\")\n",
        "    print(\"\\n\\n\\n\")\n",
        "\n",
        "    print(\"Available Option:\")\n",
        "\n",
        "    print(\"1: Add An Item To The Inventary\")\n",
        "    print(\"2: Display ALl Items\")\n",
        "    print(\"3: Add Customer Details\")\n",
        "    print(\"4: Display Bill\")\n",
        "    print(\"5: Exit\")\n",
        "\n",
        "\n",
        "\n",
        "\n",
        "    print(\"\\n\")\n",
        "\n",
        "    num=int(input('Enter Your Option '))\n",
        "\n",
        "\n",
        "\n",
        "    if(num==1):\n",
        "        c=int(input('Enter the number of items You Want to add To The Inventory '))\n",
        "        i=0\n",
        "        while(i<c):\n",
        "            num_1+=1\n",
        "            rec=get_input(num_1)\n",
        "            i+=1\n",
        "    \n",
        "        fd=open('Record.json','w')\n",
        "        fd.write(rec + '\\n')\n",
        "        fd.close()\n",
        "    \n",
        "    elif(num==2):\n",
        "        display()\n",
        "    \n",
        "    elif(num==3):\n",
        "        rec=addcustomer(num_3)\n",
        "        num_3+=1\n",
        "        fd=open('Sales.json','w')\n",
        "        fd.write(rec + '\\n')\n",
        "        fd.close()\n",
        "    \n",
        "    elif(num==4):\n",
        "        generatebill()\n",
        "        \n",
        "    else:\n",
        "        break"
      ],
      "execution_count": null,
      "outputs": [
        {
          "output_type": "stream",
          "name": "stdout",
          "text": [
            "\n",
            "INVENTORY MANAGEMENT\n",
            "---------------------\n",
            "\n",
            "\n",
            "\n",
            "\n",
            "Available Option:\n",
            "1: Add An Item To The Inventary\n",
            "2: Display ALl Items\n",
            "3: Add Customer Details\n",
            "4: Display Bill\n",
            "5: Exit\n",
            "\n",
            "\n"
          ]
        }
      ]
    }
  ]
}